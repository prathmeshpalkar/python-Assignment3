{
 "cells": [
  {
   "cell_type": "code",
   "execution_count": 4,
   "id": "3c0ac2b8",
   "metadata": {},
   "outputs": [
    {
     "name": "stdout",
     "output_type": "stream",
     "text": [
      "Student Name: ABC\n",
      "Student Age: 15\n",
      "Student Grade: C\n"
     ]
    }
   ],
   "source": [
    "class Student:\n",
    "    def __init__(self, name, age, grade):\n",
    "        self.name = name\n",
    "        self.age = age\n",
    "        self.grade = grade\n",
    "\n",
    "\n",
    "student1 = Student(\"XYZ\", 18, \"A\")\n",
    "student2 = Student(\"ABC\", 15, \"B\")\n",
    "student3 = Student(\"GHI\", 18, \"C\")\n",
    "\n",
    "\n",
    "print(\"Student Name:\", student2.name)\n",
    "print(\"Student Age:\", student2.age)\n",
    "print(\"Student Grade:\", student3.grade)\n"
   ]
  },
  {
   "cell_type": "code",
   "execution_count": 16,
   "id": "721fc839",
   "metadata": {},
   "outputs": [
    {
     "name": "stdout",
     "output_type": "stream",
     "text": [
      "XYZ is not passing.\n"
     ]
    }
   ],
   "source": [
    "class Student:\n",
    "    def __init__(self, name, age, grade):\n",
    "        self.name = name\n",
    "        self.age = age\n",
    "        self.grade = grade\n",
    "\n",
    "    def is_passing(self):\n",
    "        return self.grade >= 50\n",
    "\n",
    "\n",
    "student1 = Student(\"ABC\", 18, 65)\n",
    "student2 = Student('GHI', 16, 51)\n",
    "student3 = Student('XYZ', 19, 47)\n",
    "\n",
    "\n",
    "passing_status = student3.is_passing()\n",
    "\n",
    "\n",
    "if passing_status:\n",
    "    print(f\"{student3.name} is passing.\")\n",
    "else:\n",
    "    print(f\"{student3.name} is not passing.\")"
   ]
  },
  {
   "cell_type": "code",
   "execution_count": 18,
   "id": "180c3ebe",
   "metadata": {},
   "outputs": [
    {
     "name": "stdout",
     "output_type": "stream",
     "text": [
      "Student Name: ABC\n",
      "Student Age: 18\n",
      "Student Grade: 75\n",
      "School Name: Example High School\n"
     ]
    }
   ],
   "source": [
    "class HighSchoolStudent(Student):\n",
    "    def __init__(self, name, age, grade, school_name):\n",
    "        super().__init__(name, age, grade)\n",
    "        self.school_name = school_name\n",
    "\n",
    "\n",
    "high_school_student1 = HighSchoolStudent(\"ABC\", 17, 75, \"Example High School\")\n",
    "high_school_student2 = HighSchoolStudent(\"GHI\", 18, 85, \"Example High School\")\n",
    "\n",
    "\n",
    "print(\"Student Name:\", high_school_student1.name)\n",
    "print(\"Student Age:\", high_school_student2.age)\n",
    "print(\"Student Grade:\", high_school_student1.grade)\n",
    "print(\"School Name:\", high_school_student2.school_name)"
   ]
  },
  {
   "cell_type": "code",
   "execution_count": 20,
   "id": "8eb0343d",
   "metadata": {},
   "outputs": [
    {
     "name": "stdout",
     "output_type": "stream",
     "text": [
      "Rectangle1 has an area of 20 square units.\n",
      "Rectangle2 has an area of 21 square units.\n"
     ]
    }
   ],
   "source": [
    "#Write a Python function called \"calculate_rectangle_area\" that takes two parameters, length and width, and returns the area of a rectangle. Call the function with different sets of values and display the results.\n",
    "\n",
    "def calculate_rectangle_area(length, width):\n",
    "    return length * width\n",
    "\n",
    "\n",
    "length1, width1 = 4, 5\n",
    "area1 = calculate_rectangle_area(length1, width1)\n",
    "print(f\"Rectangle1 has an area of {area1} square units.\")\n",
    "\n",
    "length2, width2 = 7, 3\n",
    "area2 = calculate_rectangle_area(length2, width2)\n",
    "print(f\"Rectangle2 has an area of {area2} square units.\")"
   ]
  },
  {
   "cell_type": "code",
   "execution_count": 22,
   "id": "049832fd",
   "metadata": {},
   "outputs": [
    {
     "name": "stdout",
     "output_type": "stream",
     "text": [
      "Hello, ABC!\n",
      "Hello, GHI!\n"
     ]
    }
   ],
   "source": [
    "def greet(name, greeting=\"Hello\"):\n",
    "    return f\"{greeting}, {name}!\"\n",
    "\n",
    "\n",
    "greeting1 = greet(\"ABC\")\n",
    "greeting2 = greet(\"GHI\")\n",
    "\n",
    "print(greeting1)\n",
    "print(greeting2)"
   ]
  },
  {
   "cell_type": "code",
   "execution_count": 24,
   "id": "8f647308",
   "metadata": {},
   "outputs": [
    {
     "name": "stdout",
     "output_type": "stream",
     "text": [
      "Average: 12.5\n"
     ]
    }
   ],
   "source": [
    "def calculate_average(*numbers):\n",
    "    if not numbers:\n",
    "        return 0  \n",
    "    return sum(numbers) / len(numbers)\n",
    "\n",
    "# Test the function with the numbers 5, 10, 15, and 20\n",
    "average_result = calculate_average(5, 10, 15, 20)\n",
    "\n",
    "print(\"Average:\", average_result)"
   ]
  },
  {
   "cell_type": "code",
   "execution_count": null,
   "id": "0d51a63f",
   "metadata": {},
   "outputs": [],
   "source": []
  }
 ],
 "metadata": {
  "kernelspec": {
   "display_name": "Python 3 (ipykernel)",
   "language": "python",
   "name": "python3"
  },
  "language_info": {
   "codemirror_mode": {
    "name": "ipython",
    "version": 3
   },
   "file_extension": ".py",
   "mimetype": "text/x-python",
   "name": "python",
   "nbconvert_exporter": "python",
   "pygments_lexer": "ipython3",
   "version": "3.11.5"
  }
 },
 "nbformat": 4,
 "nbformat_minor": 5
}
